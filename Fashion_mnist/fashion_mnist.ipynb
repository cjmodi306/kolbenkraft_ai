{
 "cells": [
  {
   "cell_type": "code",
   "execution_count": 14,
   "id": "dc79388e",
   "metadata": {},
   "outputs": [],
   "source": [
    "import tensorflow as tf\n",
    "from tensorflow import keras\n",
    "from tensorflow.keras.optimizers import Adam\n",
    "import numpy as np\n",
    "import matplotlib.pyplot as plt"
   ]
  },
  {
   "cell_type": "markdown",
   "id": "077a7639",
   "metadata": {},
   "source": [
    "### Importing datasets\n",
    "Keras already incorporates image datasets of clothes that can be imported using `keras.datasets.fashion_mnist`. There are about 60000 examples of 28*28 images."
   ]
  },
  {
   "cell_type": "code",
   "execution_count": 3,
   "id": "f3698b6e",
   "metadata": {},
   "outputs": [
    {
     "name": "stdout",
     "output_type": "stream",
     "text": [
      "Downloading data from https://storage.googleapis.com/tensorflow/tf-keras-datasets/train-labels-idx1-ubyte.gz\n",
      "32768/29515 [=================================] - 0s 1us/step\n",
      "40960/29515 [=========================================] - 0s 1us/step\n",
      "Downloading data from https://storage.googleapis.com/tensorflow/tf-keras-datasets/train-images-idx3-ubyte.gz\n",
      "26427392/26421880 [==============================] - 8s 0us/step\n",
      "26435584/26421880 [==============================] - 8s 0us/step\n",
      "Downloading data from https://storage.googleapis.com/tensorflow/tf-keras-datasets/t10k-labels-idx1-ubyte.gz\n",
      "16384/5148 [===============================================================================================] - 0s 0us/step\n",
      "Downloading data from https://storage.googleapis.com/tensorflow/tf-keras-datasets/t10k-images-idx3-ubyte.gz\n",
      "4423680/4422102 [==============================] - 1s 0us/step\n",
      "4431872/4422102 [==============================] - 1s 0us/step\n"
     ]
    }
   ],
   "source": [
    "fashion = keras.datasets.fashion_mnist\n",
    "(train_x, train_y), (test_x, test_y) = fashion.load_data()"
   ]
  },
  {
   "cell_type": "code",
   "execution_count": 5,
   "id": "d62ecd45",
   "metadata": {},
   "outputs": [
    {
     "data": {
      "text/plain": [
       "(60000, 28, 28)"
      ]
     },
     "execution_count": 5,
     "metadata": {},
     "output_type": "execute_result"
    }
   ],
   "source": [
    "train_x.shape"
   ]
  },
  {
   "cell_type": "code",
   "execution_count": 6,
   "id": "3908f6aa",
   "metadata": {},
   "outputs": [
    {
     "data": {
      "text/plain": [
       "array([9, 0, 0, ..., 3, 0, 5], dtype=uint8)"
      ]
     },
     "execution_count": 6,
     "metadata": {},
     "output_type": "execute_result"
    }
   ],
   "source": [
    "train_y"
   ]
  },
  {
   "cell_type": "code",
   "execution_count": 7,
   "id": "c32d660d",
   "metadata": {},
   "outputs": [
    {
     "data": {
      "image/png": "[encoded data removed]",
      "text/plain": [
       "<Figure size 432x288 with 2 Axes>"
      ]
     },
     "metadata": {
      "needs_background": "light"
     },
     "output_type": "display_data"
    }
   ],
   "source": [
    "plt.figure()\n",
    "plt.imshow(train_x[5])\n",
    "plt.colorbar()\n",
    "plt.grid(True)"
   ]
  },
  {
   "cell_type": "code",
   "execution_count": 8,
   "id": "8f152d01",
   "metadata": {},
   "outputs": [],
   "source": [
    "train_x = train_x/255\n",
    "test_x = test_x/255"
   ]
  },
  {
   "cell_type": "markdown",
   "id": "9dc04690",
   "metadata": {},
   "source": [
    "### Building the model\n",
    "Here, a Sequential model is built that will initially flatten the image matrices. This will be processed with an fully connected or densely connected layer with 254 nodes. The ReLU activation will be applied to this layer. Finally, as this is classification problem, the last layer will contain 10 nodes with softmax activation."
   ]
  },
  {
   "cell_type": "code",
   "execution_count": 25,
   "id": "be6c1dc0",
   "metadata": {},
   "outputs": [],
   "source": [
    "model = keras.Sequential([\n",
    "    keras.layers.Flatten(input_shape=(28,28)),\n",
    "    keras.layers.Dense(254, activation=tf.nn.relu),\n",
    "    keras.layers.Dense(10, activation=tf.nn.softmax)\n",
    "])"
   ]
  },
  {
   "cell_type": "markdown",
   "id": "8c9c4830",
   "metadata": {},
   "source": [
    "### Optimizer, Loss and Metrics\n",
    "Optimizer, lossfunction and metrics can be declared in the `model.compile()` method."
   ]
  },
  {
   "cell_type": "code",
   "execution_count": 26,
   "id": "282510f8",
   "metadata": {},
   "outputs": [],
   "source": [
    "model.compile(optimizer = Adam(), loss='sparse_categorical_crossentropy', metrics = ['accuracy'])"
   ]
  },
  {
   "cell_type": "markdown",
   "id": "a180f621",
   "metadata": {},
   "source": [
    "### Training the model\n",
    "The model will be trained using `model.fit()` that takes the training set as arguments, along with number of epochs and batch size."
   ]
  },
  {
   "cell_type": "code",
   "execution_count": 27,
   "id": "139aadd9",
   "metadata": {
    "scrolled": false
   },
   "outputs": [
    {
     "name": "stderr",
     "output_type": "stream",
     "text": [
      "2021-10-17 15:45:23.617681: W tensorflow/core/framework/cpu_allocator_impl.cc:80] Allocation of 188160000 exceeds 10% of free system memory.\n"
     ]
    },
    {
     "name": "stdout",
     "output_type": "stream",
     "text": [
      "Epoch 1/100\n",
      "235/235 [==============================] - 3s 10ms/step - loss: 0.5688 - accuracy: 0.8055\n",
      "Epoch 2/100\n",
      "235/235 [==============================] - 2s 10ms/step - loss: 0.4081 - accuracy: 0.8572\n",
      "Epoch 3/100\n",
      "235/235 [==============================] - 2s 10ms/step - loss: 0.3644 - accuracy: 0.8714\n",
      "Epoch 4/100\n",
      "235/235 [==============================] - 2s 10ms/step - loss: 0.3435 - accuracy: 0.8774\n",
      "Epoch 5/100\n",
      "235/235 [==============================] - 2s 10ms/step - loss: 0.3212 - accuracy: 0.8841\n",
      "Epoch 6/100\n",
      "235/235 [==============================] - 2s 10ms/step - loss: 0.3019 - accuracy: 0.8917\n",
      "Epoch 7/100\n",
      "235/235 [==============================] - 2s 10ms/step - loss: 0.2937 - accuracy: 0.8936\n",
      "Epoch 8/100\n",
      "235/235 [==============================] - 2s 10ms/step - loss: 0.2797 - accuracy: 0.8984\n",
      "Epoch 9/100\n",
      "235/235 [==============================] - 2s 10ms/step - loss: 0.2715 - accuracy: 0.9021\n",
      "Epoch 10/100\n",
      "235/235 [==============================] - 2s 10ms/step - loss: 0.2559 - accuracy: 0.9075\n",
      "Epoch 11/100\n",
      "235/235 [==============================] - 2s 10ms/step - loss: 0.2483 - accuracy: 0.9097\n",
      "Epoch 12/100\n",
      "235/235 [==============================] - 2s 10ms/step - loss: 0.2462 - accuracy: 0.9104\n",
      "Epoch 13/100\n",
      "235/235 [==============================] - 2s 10ms/step - loss: 0.2348 - accuracy: 0.9145\n",
      "Epoch 14/100\n",
      "235/235 [==============================] - 2s 10ms/step - loss: 0.2289 - accuracy: 0.9158\n",
      "Epoch 15/100\n",
      "235/235 [==============================] - 2s 10ms/step - loss: 0.2191 - accuracy: 0.9206\n",
      "Epoch 16/100\n",
      "235/235 [==============================] - 2s 10ms/step - loss: 0.2138 - accuracy: 0.9217\n",
      "Epoch 17/100\n",
      "235/235 [==============================] - 2s 10ms/step - loss: 0.2077 - accuracy: 0.9233\n",
      "Epoch 18/100\n",
      "235/235 [==============================] - 2s 10ms/step - loss: 0.2028 - accuracy: 0.9260\n",
      "Epoch 19/100\n",
      "235/235 [==============================] - 2s 10ms/step - loss: 0.1974 - accuracy: 0.9273\n",
      "Epoch 20/100\n",
      "235/235 [==============================] - 2s 10ms/step - loss: 0.1940 - accuracy: 0.9289\n",
      "Epoch 21/100\n",
      "235/235 [==============================] - 2s 10ms/step - loss: 0.1865 - accuracy: 0.9312\n",
      "Epoch 22/100\n",
      "235/235 [==============================] - 2s 10ms/step - loss: 0.1815 - accuracy: 0.9343\n",
      "Epoch 23/100\n",
      "235/235 [==============================] - 2s 10ms/step - loss: 0.1806 - accuracy: 0.9339\n",
      "Epoch 24/100\n",
      "235/235 [==============================] - 2s 10ms/step - loss: 0.1741 - accuracy: 0.9362\n",
      "Epoch 25/100\n",
      "235/235 [==============================] - 2s 10ms/step - loss: 0.1700 - accuracy: 0.9385\n",
      "Epoch 26/100\n",
      "235/235 [==============================] - 2s 10ms/step - loss: 0.1675 - accuracy: 0.9383\n",
      "Epoch 27/100\n",
      "235/235 [==============================] - 2s 10ms/step - loss: 0.1613 - accuracy: 0.9415\n",
      "Epoch 28/100\n",
      "235/235 [==============================] - 2s 10ms/step - loss: 0.1569 - accuracy: 0.9440\n",
      "Epoch 29/100\n",
      "235/235 [==============================] - 2s 10ms/step - loss: 0.1530 - accuracy: 0.9452\n",
      "Epoch 30/100\n",
      "235/235 [==============================] - 2s 10ms/step - loss: 0.1490 - accuracy: 0.9470\n",
      "Epoch 31/100\n",
      "235/235 [==============================] - 2s 10ms/step - loss: 0.1489 - accuracy: 0.9465\n",
      "Epoch 32/100\n",
      "235/235 [==============================] - 2s 10ms/step - loss: 0.1417 - accuracy: 0.9496\n",
      "Epoch 33/100\n",
      "235/235 [==============================] - 2s 10ms/step - loss: 0.1396 - accuracy: 0.9494\n",
      "Epoch 34/100\n",
      "235/235 [==============================] - 2s 10ms/step - loss: 0.1350 - accuracy: 0.9511\n",
      "Epoch 35/100\n",
      "235/235 [==============================] - 3s 11ms/step - loss: 0.1332 - accuracy: 0.9527\n",
      "Epoch 36/100\n",
      "235/235 [==============================] - 2s 10ms/step - loss: 0.1288 - accuracy: 0.9536\n",
      "Epoch 37/100\n",
      "235/235 [==============================] - 3s 11ms/step - loss: 0.1260 - accuracy: 0.9545\n",
      "Epoch 38/100\n",
      "235/235 [==============================] - 3s 12ms/step - loss: 0.1218 - accuracy: 0.9570\n",
      "Epoch 39/100\n",
      "235/235 [==============================] - 3s 11ms/step - loss: 0.1164 - accuracy: 0.9585\n",
      "Epoch 40/100\n",
      "235/235 [==============================] - 3s 11ms/step - loss: 0.1181 - accuracy: 0.9583\n",
      "Epoch 41/100\n",
      "235/235 [==============================] - 2s 11ms/step - loss: 0.1140 - accuracy: 0.9592\n",
      "Epoch 42/100\n",
      "235/235 [==============================] - 3s 11ms/step - loss: 0.1118 - accuracy: 0.9599\n",
      "Epoch 43/100\n",
      "235/235 [==============================] - 3s 11ms/step - loss: 0.1091 - accuracy: 0.9606\n",
      "Epoch 44/100\n",
      "235/235 [==============================] - 3s 13ms/step - loss: 0.1087 - accuracy: 0.9604\n",
      "Epoch 45/100\n",
      "235/235 [==============================] - 3s 11ms/step - loss: 0.1058 - accuracy: 0.9624\n",
      "Epoch 46/100\n",
      "235/235 [==============================] - 2s 11ms/step - loss: 0.1027 - accuracy: 0.9638\n",
      "Epoch 47/100\n",
      "235/235 [==============================] - 2s 10ms/step - loss: 0.0991 - accuracy: 0.9650\n",
      "Epoch 48/100\n",
      "235/235 [==============================] - 3s 11ms/step - loss: 0.0978 - accuracy: 0.9656\n",
      "Epoch 49/100\n",
      "235/235 [==============================] - 3s 11ms/step - loss: 0.0950 - accuracy: 0.9660\n",
      "Epoch 50/100\n",
      "235/235 [==============================] - 3s 11ms/step - loss: 0.0892 - accuracy: 0.9690\n",
      "Epoch 51/100\n",
      "235/235 [==============================] - 3s 12ms/step - loss: 0.0913 - accuracy: 0.9683\n",
      "Epoch 52/100\n",
      "235/235 [==============================] - 3s 11ms/step - loss: 0.0860 - accuracy: 0.9703\n",
      "Epoch 53/100\n",
      "235/235 [==============================] - 3s 11ms/step - loss: 0.0889 - accuracy: 0.9684\n",
      "Epoch 54/100\n",
      "235/235 [==============================] - 3s 12ms/step - loss: 0.0859 - accuracy: 0.9693\n",
      "Epoch 55/100\n",
      "235/235 [==============================] - 3s 12ms/step - loss: 0.0828 - accuracy: 0.9714\n",
      "Epoch 56/100\n",
      "235/235 [==============================] - 3s 12ms/step - loss: 0.0789 - accuracy: 0.9726\n",
      "Epoch 57/100\n",
      "235/235 [==============================] - 3s 12ms/step - loss: 0.0799 - accuracy: 0.9716\n",
      "Epoch 58/100\n",
      "235/235 [==============================] - 3s 11ms/step - loss: 0.0777 - accuracy: 0.9723\n",
      "Epoch 59/100\n",
      "235/235 [==============================] - 3s 11ms/step - loss: 0.0769 - accuracy: 0.9731\n",
      "Epoch 60/100\n",
      "235/235 [==============================] - 3s 12ms/step - loss: 0.0732 - accuracy: 0.9745\n",
      "Epoch 61/100\n",
      "235/235 [==============================] - 3s 12ms/step - loss: 0.0712 - accuracy: 0.9752\n",
      "Epoch 62/100\n",
      "235/235 [==============================] - 3s 11ms/step - loss: 0.0773 - accuracy: 0.9726\n",
      "Epoch 63/100\n",
      "235/235 [==============================] - 3s 11ms/step - loss: 0.0724 - accuracy: 0.9748\n",
      "Epoch 64/100\n",
      "235/235 [==============================] - 3s 11ms/step - loss: 0.0675 - accuracy: 0.9768\n",
      "Epoch 65/100\n",
      "235/235 [==============================] - 3s 11ms/step - loss: 0.0640 - accuracy: 0.9780\n",
      "Epoch 66/100\n",
      "235/235 [==============================] - 2s 10ms/step - loss: 0.0654 - accuracy: 0.9770\n",
      "Epoch 67/100\n",
      "235/235 [==============================] - 3s 12ms/step - loss: 0.0630 - accuracy: 0.9786\n",
      "Epoch 68/100\n",
      "235/235 [==============================] - 3s 12ms/step - loss: 0.0645 - accuracy: 0.9773\n",
      "Epoch 69/100\n",
      "235/235 [==============================] - 3s 11ms/step - loss: 0.0610 - accuracy: 0.9786\n",
      "Epoch 70/100\n",
      "235/235 [==============================] - 2s 10ms/step - loss: 0.0596 - accuracy: 0.9793\n",
      "Epoch 71/100\n",
      "235/235 [==============================] - 2s 9ms/step - loss: 0.0579 - accuracy: 0.9805\n",
      "Epoch 72/100\n",
      "235/235 [==============================] - 2s 10ms/step - loss: 0.0571 - accuracy: 0.9804\n",
      "Epoch 73/100\n",
      "235/235 [==============================] - 3s 11ms/step - loss: 0.0622 - accuracy: 0.9782\n",
      "Epoch 74/100\n",
      "235/235 [==============================] - 2s 10ms/step - loss: 0.0598 - accuracy: 0.9786\n",
      "Epoch 75/100\n",
      "235/235 [==============================] - 2s 10ms/step - loss: 0.0515 - accuracy: 0.9825\n",
      "Epoch 76/100\n",
      "235/235 [==============================] - 3s 14ms/step - loss: 0.0527 - accuracy: 0.9818\n",
      "Epoch 77/100\n",
      "235/235 [==============================] - 3s 12ms/step - loss: 0.0524 - accuracy: 0.9820\n",
      "Epoch 78/100\n",
      "235/235 [==============================] - 3s 12ms/step - loss: 0.0545 - accuracy: 0.9806\n",
      "Epoch 79/100\n",
      "235/235 [==============================] - 3s 11ms/step - loss: 0.0541 - accuracy: 0.9804\n",
      "Epoch 80/100\n"
     ]
    },
    {
     "name": "stdout",
     "output_type": "stream",
     "text": [
      "235/235 [==============================] - 2s 10ms/step - loss: 0.0475 - accuracy: 0.9843\n",
      "Epoch 81/100\n",
      "235/235 [==============================] - 3s 11ms/step - loss: 0.0511 - accuracy: 0.9818\n",
      "Epoch 82/100\n",
      "235/235 [==============================] - 2s 10ms/step - loss: 0.0496 - accuracy: 0.9825\n",
      "Epoch 83/100\n",
      "235/235 [==============================] - 2s 10ms/step - loss: 0.0461 - accuracy: 0.9841\n",
      "Epoch 84/100\n",
      "235/235 [==============================] - 2s 10ms/step - loss: 0.0462 - accuracy: 0.9844\n",
      "Epoch 85/100\n",
      "235/235 [==============================] - 2s 10ms/step - loss: 0.0448 - accuracy: 0.9844\n",
      "Epoch 86/100\n",
      "235/235 [==============================] - 3s 12ms/step - loss: 0.0405 - accuracy: 0.9866\n",
      "Epoch 87/100\n",
      "235/235 [==============================] - 3s 13ms/step - loss: 0.0416 - accuracy: 0.9864\n",
      "Epoch 88/100\n",
      "235/235 [==============================] - 3s 12ms/step - loss: 0.0473 - accuracy: 0.9836\n",
      "Epoch 89/100\n",
      "235/235 [==============================] - 2s 10ms/step - loss: 0.0452 - accuracy: 0.9847\n",
      "Epoch 90/100\n",
      "235/235 [==============================] - 2s 10ms/step - loss: 0.0393 - accuracy: 0.9863\n",
      "Epoch 91/100\n",
      "235/235 [==============================] - 3s 11ms/step - loss: 0.0414 - accuracy: 0.9859\n",
      "Epoch 92/100\n",
      "235/235 [==============================] - 3s 11ms/step - loss: 0.0456 - accuracy: 0.9839\n",
      "Epoch 93/100\n",
      "235/235 [==============================] - 3s 11ms/step - loss: 0.0366 - accuracy: 0.9876\n",
      "Epoch 94/100\n",
      "235/235 [==============================] - 2s 10ms/step - loss: 0.0371 - accuracy: 0.9876\n",
      "Epoch 95/100\n",
      "235/235 [==============================] - 2s 10ms/step - loss: 0.0398 - accuracy: 0.9866\n",
      "Epoch 96/100\n",
      "235/235 [==============================] - 2s 10ms/step - loss: 0.0370 - accuracy: 0.9870\n",
      "Epoch 97/100\n",
      "235/235 [==============================] - 3s 11ms/step - loss: 0.0370 - accuracy: 0.9873\n",
      "Epoch 98/100\n",
      "235/235 [==============================] - 3s 11ms/step - loss: 0.0341 - accuracy: 0.9885\n",
      "Epoch 99/100\n",
      "235/235 [==============================] - 2s 11ms/step - loss: 0.0377 - accuracy: 0.9868\n",
      "Epoch 100/100\n",
      "235/235 [==============================] - 2s 10ms/step - loss: 0.0349 - accuracy: 0.9883\n"
     ]
    },
    {
     "data": {
      "text/plain": [
       "<keras.callbacks.History at 0x7f1f5474a580>"
      ]
     },
     "execution_count": 27,
     "metadata": {},
     "output_type": "execute_result"
    }
   ],
   "source": [
    "model.fit(train_x, train_y,epochs = 100, batch_size = 256)"
   ]
  },
  {
   "cell_type": "markdown",
   "id": "7eac15b4",
   "metadata": {},
   "source": [
    "### Evaluating the model\n",
    "The model can be analysed using `model.evaluate()` that takes the test dataset as arguments."
   ]
  },
  {
   "cell_type": "code",
   "execution_count": 28,
   "id": "5f0b8ca5",
   "metadata": {
    "scrolled": true
   },
   "outputs": [
    {
     "name": "stdout",
     "output_type": "stream",
     "text": [
      "313/313 [==============================] - 1s 2ms/step - loss: 0.5921 - accuracy: 0.8897\n"
     ]
    },
    {
     "data": {
      "text/plain": [
       "[0.5921422243118286, 0.8896999955177307]"
      ]
     },
     "execution_count": 28,
     "metadata": {},
     "output_type": "execute_result"
    }
   ],
   "source": [
    "model.evaluate(test_x, test_y)"
   ]
  },
  {
   "cell_type": "code",
   "execution_count": null,
   "id": "7a4344d4",
   "metadata": {},
   "outputs": [],
   "source": []
  }
 ],
 "metadata": {
  "kernelspec": {
   "display_name": "Python 3 (ipykernel)",
   "language": "python",
   "name": "python3"
  },
  "language_info": {
   "codemirror_mode": {
    "name": "ipython",
    "version": 3
   },
   "file_extension": ".py",
   "mimetype": "text/x-python",
   "name": "python",
   "nbconvert_exporter": "python",
   "pygments_lexer": "ipython3",
   "version": "3.8.5"
  }
 },
 "nbformat": 4,
 "nbformat_minor": 5
}
