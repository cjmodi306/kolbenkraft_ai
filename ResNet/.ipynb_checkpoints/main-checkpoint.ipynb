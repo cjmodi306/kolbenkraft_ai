{
 "cells": [
  {
   "cell_type": "code",
   "execution_count": 1,
   "id": "c38cb197",
   "metadata": {},
   "outputs": [
    {
     "name": "stderr",
     "output_type": "stream",
     "text": [
      "2021-10-14 21:58:37.882737: W tensorflow/stream_executor/platform/default/dso_loader.cc:64] Could not load dynamic library 'libcudart.so.11.0'; dlerror: libcudart.so.11.0: cannot open shared object file: No such file or directory\n",
      "2021-10-14 21:58:37.882860: I tensorflow/stream_executor/cuda/cudart_stub.cc:29] Ignore above cudart dlerror if you do not have a GPU set up on your machine.\n"
     ]
    }
   ],
   "source": [
    "import tensorflow as tf\n",
    "import numpy as np\n",
    "from tensorflow.keras.applications.resnet_v2 import ResNet50V2\n",
    "from tensorflow.keras.preprocessing import image\n",
    "from tensorflow.keras.applications.resnet_v2 import preprocess_input, decode_predictions\n",
    "from tensorflow.keras import layers\n",
    "from tensorflow.keras.layers import Conv2D, MaxPool2D, AveragePooling2D, Dense, Activation, ZeroPadding2D, BatchNormalization, Flatten, Add, GlobalMaxPooling2D\n",
    "from tensorflow.keras.models import Model, load_model\n",
    "from resnets_utils import *\n",
    "from tensorflow.keras.initializers import random_uniform, glorot_uniform, constant, identity\n",
    "from tensorflow.python.framework.ops import EagerTensor\n",
    "from matplotlib.pyplot import imshow\n",
    "\n",
    "from test_utils import summary, comparator\n",
    "import public_tests\n",
    "from main_utils import *"
   ]
  },
  {
   "cell_type": "code",
   "execution_count": 3,
   "id": "6797115b",
   "metadata": {},
   "outputs": [],
   "source": [
    "X1 =  np.ones((1,4,4,3))*-1\n",
    "X2 = np.ones((1,4,4,3))*1\n",
    "X3 = np.ones((1,4,4,3))*3\n",
    "\n",
    "#X = np.concatenate((X1, X2, X3), axis=0).astype(np.float32)\n",
    "\n",
    "#A = identity_block(X,3,[10,20,3])"
   ]
  },
  {
   "cell_type": "code",
   "execution_count": 9,
   "id": "89cba067",
   "metadata": {},
   "outputs": [],
   "source": []
  }
 ],
 "metadata": {
  "kernelspec": {
   "display_name": "Python 3 (ipykernel)",
   "language": "python",
   "name": "python3"
  },
  "language_info": {
   "codemirror_mode": {
    "name": "ipython",
    "version": 3
   },
   "file_extension": ".py",
   "mimetype": "text/x-python",
   "name": "python",
   "nbconvert_exporter": "python",
   "pygments_lexer": "ipython3",
   "version": "3.8.5"
  }
 },
 "nbformat": 4,
 "nbformat_minor": 5
}
